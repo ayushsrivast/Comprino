{
 "cells": [
  {
   "cell_type": "markdown",
   "metadata": {},
   "source": [
    "<h1> Sample Question 3: Temple Land </h1>"
   ]
  },
  {
   "cell_type": "markdown",
   "metadata": {},
   "source": [
    "<p>The snakes want to build a temple for Lord Cobra. There are multiple strips of land that they are\n",
    "looking at, but not all of them are suitable. They need the strip of land to resemble a coiled Cobra.\n",
    "You need to find out which strips do so.\n",
    "Formally, every strip of land, has a length. Suppose the length of the i-th strip is is Ni\n",
    ", then there will be Niintegers, Hi1\n",
    ", Hi2\n",
    ", .. HiNi\n",
    ", which represent the heights of the ground at various parts of the strip,\n",
    "in sequential order. That is, the strip has been divided into Niparts and the height of each part is\n",
    "given. This strip is valid, if and only if all these conditions are satisfied:\n",
    "<p>● There should be an unique 'centre' part. This is where the actual temple will be built. By\n",
    "centre, we mean that there should be an equal number of parts to the left of this part,\n",
    "and to the right of this part.\n",
    "<p>● Hi1= 1\n",
    "<p>● The heights keep increasing by exactly 1, as you move from the leftmost part, to the\n",
    "centre part.\n",
    "<p>● The heights should keep decreasing by exactly 1, as you move from the centre part to\n",
    "the rightmost part. Note that this means that HiNi\n",
    " should also be 1.\n",
    "<p>Your job is to look at every strip and find if it's valid or not.\n",
    "<p>Input\n",
    "<p>● The first line contains a single integer, S, which is the number of strips you need to look\n",
    "at. The description of each of the S strips follows\n",
    "<p>● The first line of the i-th strip's description will contain a single integer: Ni\n",
    ", which is the\n",
    "length and number of parts into which it has been divided.\n",
    "<p>● The next line contains Ni\n",
    " integers: Hi1\n",
    ", Hi2\n",
    ", .., HiNi\n",
    ". These represent the heights of the\n",
    "various parts in the i-th strip.\n",
    "<p>Output\n",
    "<p>● For each strip, in a new line, output \"yes\" if is a valid strip, and \"no\", if it isn't.\n",
    "Constraints\n",
    "<p>● 1 ≤ S ≤ 100\n",
    "<p>● 3 ≤ Ni\n",
    " ≤ 100\n",
    "<p>● 1 ≤ Hij\n",
    " ≤ 100\n",
    "<p>Example\n",
    "<p>\n",
    "<p>    Input:\n",
    "<p>7\n",
    "<p>5\n",
    "<p>1 2 3 2 1\n",
    "<p>7\n",
    "<p>2 3 4 5 4 3 2\n",
    "<p>5\n",
    "<p>1 2 3 4 3\n",
    "<p>5\n",
    "<p>1 3 5 3 1\n",
    "<p>7\n",
    "<p>1 2 3 4 3 2 1\n",
    "<p>4\n",
    "<p>1 2 3 2\n",
    "<p>4\n",
    "<p>1 2 2 1\n",
    "<p>Output:\n",
    "<p>yes\n",
    "<p>no\n",
    "<p>no\n",
    "<p>no\n",
    "<p>yes\n",
    "<p>no\n",
    "<p>no\n",
    "<p>Explanation\n",
    "In the first strip, all the conditions are satisfied, hence it is valid.\n",
    "In the second strip, it does not start with a 1, and hence is invalid.\n",
    "In the third strip, it keeps increasing even past the centre, instead of decreasing. Hence invalid.\n",
    "The fourth strip does not increase and decrease by exactly 1. Hence invalid.\n",
    "The fifth satisfies all conditions and hence is valid.\n",
    "The sixth and seventh strip do not have a 'centre' part. Because for every part, there are either more\n",
    "parts to its right than its left, or more parts on its left than its right. Hence both the strips are invalid.\n"
   ]
  },
  {
   "cell_type": "markdown",
   "metadata": {},
   "source": [
    "<h4> Pseudo Code </h4>\n",
    "<p> 1. Taking the number of cases input using for loop.</p>\n",
    "<p> 2. User input storing in n </p>\n",
    "<p> 3. Taking another user input for a list of integers and storing in s.</p>\n",
    "<p> 4. Performing operation whether the n%2==0 or not.</p>\n",
    "<p> 5. Performing operation on the given range and checking each values </p>\n",
    "<p> 6. For a loop to match and satisfy the requirements of the given questions. </p>\n",
    "<p> 7. Printing the value of r after all operations performed on it </p>"
   ]
  },
  {
   "cell_type": "markdown",
   "metadata": {},
   "source": [
    "<h4> Actual Code </h4>"
   ]
  },
  {
   "cell_type": "code",
   "execution_count": 1,
   "metadata": {},
   "outputs": [
    {
     "name": "stdout",
     "output_type": "stream",
     "text": [
      "7\n",
      "5\n",
      "1 2 3 2 1\n",
      "yes\n",
      "7\n",
      "2 3 4 5 4 3 2\n",
      "no\n",
      "5\n",
      "1 2 3 4  3\n",
      "no\n",
      "5\n",
      "1 3 5 3 1\n",
      "no\n",
      "7\n",
      "1 2 3 4 3 2 1\n",
      "yes\n",
      "4\n",
      "1 2 3 2\n",
      "no\n",
      "4\n",
      "1 2 2 1\n",
      "no\n"
     ]
    }
   ],
   "source": [
    "#Taking number of inputs\n",
    "for _ in range(int(input())):\n",
    "    n=int(input()) #storing input integer in n\n",
    "    s=list(map(int,input().split())) #mapping and splitting\n",
    "    #Performing the criteria in if loop\n",
    "    if(n%2==0):\n",
    "        print(\"no\")\n",
    "        continue\n",
    "    r=\"yes\"\n",
    "    #Checking for i in the given range\n",
    "    for i in range (0,n//2+1):\n",
    "        if s[i]!=i+1 or s[n-i-1]!=i+1:\n",
    "            r=\"no\"\n",
    "            break\n",
    "    print(r)"
   ]
  }
 ],
 "metadata": {
  "kernelspec": {
   "display_name": "Python 3",
   "language": "python",
   "name": "python3"
  },
  "language_info": {
   "codemirror_mode": {
    "name": "ipython",
    "version": 3
   },
   "file_extension": ".py",
   "mimetype": "text/x-python",
   "name": "python",
   "nbconvert_exporter": "python",
   "pygments_lexer": "ipython3",
   "version": "3.8.3"
  }
 },
 "nbformat": 4,
 "nbformat_minor": 4
}
