{
 "cells": [
  {
   "cell_type": "markdown",
   "metadata": {},
   "source": [
    "<h2> Comprino Technologies Round 2 </h2>\n",
    "\n",
    "<h4> Live coding session </h4>"
   ]
  },
  {
   "cell_type": "code",
   "execution_count": 11,
   "metadata": {},
   "outputs": [
    {
     "name": "stdout",
     "output_type": "stream",
     "text": [
      "2\n",
      "2 2 \n",
      "4\n",
      "3 3\n",
      "16\n"
     ]
    }
   ],
   "source": [
    "for i in range(int(input())):\n",
    "    n,m = input().split()\n",
    "    a= int(n)\n",
    "    b= int(m)\n",
    "    t=0\n",
    "    while a>1 or b>1:\n",
    "        if a>1:\n",
    "            a-=1\n",
    "        elif b>1:\n",
    "            b-=1\n",
    "        t+=1\n",
    "    print(t**2)"
   ]
  }
 ],
 "metadata": {
  "kernelspec": {
   "display_name": "Python 3",
   "language": "python",
   "name": "python3"
  },
  "language_info": {
   "codemirror_mode": {
    "name": "ipython",
    "version": 3
   },
   "file_extension": ".py",
   "mimetype": "text/x-python",
   "name": "python",
   "nbconvert_exporter": "python",
   "pygments_lexer": "ipython3",
   "version": "3.8.3"
  }
 },
 "nbformat": 4,
 "nbformat_minor": 4
}
