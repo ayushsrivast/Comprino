{
 "cells": [
  {
   "cell_type": "markdown",
   "metadata": {},
   "source": [
    "<h1> Question 6 Cats and Dogs </h1>"
   ]
  },
  {
   "cell_type": "markdown",
   "metadata": {},
   "source": [
    "<p>Chef is a farmer and a pet lover. He has a lot of his favorite pets cats and dogs in the barn. He does\n",
    "not know their exact count. But he knows that there are C cats and Ddogs in the barn. Also, one day\n",
    "went to field and found that there were L legs of the animals touching the ground. Chef knows that\n",
    "cats love to ride on the dogs. So, they might ride on the dogs, and their legs won't touch the ground\n",
    "and Chef would miss counting their legs. Chef's dogs are strong enough to ride at max two cats on\n",
    "their back.\n",
    "It was a cold foggy morning, when Chef did this counting. So he is now wondering whether he\n",
    "counted the legs properly or not. Specifically, he is wondering is there a some possibility of his\n",
    "counting being correct. Please help Chef in finding it.\n",
    "Input\n",
    "First line of the input contains an integer T denoting number of test cases. T test cases follow.\n",
    "The only line of each test case contains three space separated integers C, D, L denoting number of\n",
    "the cats, number of the dogs and number of legs of animals counted by Chef, respectively.\n",
    "Output\n",
    "For each test case, output a single line containing a string \"yes\" or \"no\" (both without quotes)\n",
    "according to the situation.\n",
    "<p>Constraints\n",
    "<p>● 1 ≤ T ≤ 105\n",
    "<p>● 0 ≤ C, D, L ≤ 109\n",
    "<p>Example\n",
    "<p>Input:\n",
    "<p>3\n",
    "<p>1 1 8\n",
    "<p>1 1 4\n",
    "<p>1 1 2\n",
    "<p>Output:\n",
    "<p>yes\n",
    "<p>yes\n",
    "<p>no\n",
    "<p>Explanation\n",
    "Example 1. There is one cat and one dog. The number of legs of these animals on the ground are 8,\n",
    "it can be possible when both cat and dog are standing on the ground.\n",
    "Example 2. There is one cat and one dog. The number of legs of these animals on the ground are 4,\n",
    "it can be possible if the cat will ride on the dog, so its legs won't be counted by Chef, only the dog's\n",
    "legs will be counted.\n",
    "Example 3. There is one cat and one dog. The number of legs of these animals are 2, it can not be\n",
    "true at all, Chef might have made some mistake. Hence answer is \"no\"."
   ]
  },
  {
   "cell_type": "markdown",
   "metadata": {},
   "source": [
    "<h4> Pseudo Code </h4>\n",
    "<p> 1. Taking number of test cases input from user </p>\n",
    "<p> 2. calculating whether entered value of legs is divisible by 4 or not if yes</p>\n",
    "<p> 3. l <d*4 </p><p>will calculate whether legs are less than dogs multiplied by 4 and print no if satisfied </p>\n",
    "<p> 4. Checking whether legs==d*4 using elif if it is satisfied it will calculate for cats in next step.</p>\n",
    "<p> 5. Satifying each criteria using if elif and else clause the result is printedin yes or no format </p>\n",
    "    "
   ]
  },
  {
   "cell_type": "markdown",
   "metadata": {},
   "source": [
    "<h4> Actual Code </h4>"
   ]
  },
  {
   "cell_type": "code",
   "execution_count": 2,
   "metadata": {},
   "outputs": [
    {
     "name": "stdout",
     "output_type": "stream",
     "text": [
      "3\n",
      "1 1 8\n",
      "yes\n",
      "1 1 4\n",
      "yes\n",
      "1 1 2\n",
      "no\n"
     ]
    }
   ],
   "source": [
    "#Taking number of inputs for test cases using for\n",
    "for i in range(int(input())):\n",
    "    #c d and l are three variables for cats dogs and legs\n",
    "    c, d, l = map(int, input().split())\n",
    "    #If clause to check for legs\n",
    "    if l % 4 == 0:\n",
    "        if l < d * 4: \n",
    "            print(\"no\")\n",
    "        elif l == d * 4:\n",
    "            if c <= 2 * d:\n",
    "                print(\"yes\")\n",
    "            else:\n",
    "                print(\"no\")\n",
    "        elif l > d * 4:\n",
    "            if c == 0:\n",
    "                print(\"no\")\n",
    "            elif l > (c + d) * 4:\n",
    "                print(\"no\")\n",
    "            elif l - (d * 4) < (c - d * 2) * 4:\n",
    "                print(\"no\")\n",
    "            else:\n",
    "                print(\"yes\")\n",
    "    else:\n",
    "        print(\"no\")\n"
   ]
  }
 ],
 "metadata": {
  "kernelspec": {
   "display_name": "Python 3",
   "language": "python",
   "name": "python3"
  },
  "language_info": {
   "codemirror_mode": {
    "name": "ipython",
    "version": 3
   },
   "file_extension": ".py",
   "mimetype": "text/x-python",
   "name": "python",
   "nbconvert_exporter": "python",
   "pygments_lexer": "ipython3",
   "version": "3.8.3"
  }
 },
 "nbformat": 4,
 "nbformat_minor": 4
}
