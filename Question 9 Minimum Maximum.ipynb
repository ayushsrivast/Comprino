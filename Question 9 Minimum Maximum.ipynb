{
 "cells": [
  {
   "cell_type": "markdown",
   "metadata": {},
   "source": [
    "<h1> Question 9 Minimum Maximum </h1>"
   ]
  },
  {
   "cell_type": "markdown",
   "metadata": {},
   "source": [
    "<p>Chef loves to play with arrays by himself. Today, he has an array A consisting of N distinct integers.\n",
    "He wants to perform the following operation on his array A.\n",
    "● Select a pair of adjacent integers and remove the larger one of these two. This\n",
    "decreases the array size by 1. Cost of this operation will be equal to the smaller of them.\n",
    "Find out minimum sum of costs of operations needed to convert the array into a single element.\n",
    "Input\n",
    "First line of input contains a single integer T denoting the number of test cases. First line of each test\n",
    "case starts with an integer N denoting the size of the array A. Next line of input contains N space\n",
    "separated integers, where the i\n",
    "th\n",
    " integer denotes the value Ai\n",
    ".\n",
    "Output\n",
    "For each test case, print the minimum cost required for the transformation.\n",
    "Constraints\n",
    "● 1 ≤ T ≤ 10\n",
    "● 2 ≤ N ≤ 50000\n",
    "● 1 ≤ Ai\n",
    " ≤ 105\n",
    "<p>Example\n",
    "<p>Input\n",
    "<p>2\n",
    "<p>2\n",
    "<p>3 4\n",
    "<p>3\n",
    "<p>4 2 5\n",
    "<p>Output\n",
    "<p>3\n",
    "<p>4\n",
    "<p>Explanation\n",
    "Test 1 : Chef will make only 1 move: pick up both the elements (that is, 3 and 4), remove the larger\n",
    "one (4), incurring a cost equal to the smaller one (3).\n"
   ]
  },
  {
   "cell_type": "markdown",
   "metadata": {},
   "source": [
    "<h4> Pseudo Code </h4>\n",
    "<p> 1. Taking input for number of test cases to check using for loop </p>\n",
    "<p> 2. taking input in n for number of values to be entered </p>\n",
    "<p> 3. printing the value after applying min and len function in the print statement </p>"
   ]
  },
  {
   "cell_type": "markdown",
   "metadata": {},
   "source": [
    "<h4> Actual Code </h4>"
   ]
  },
  {
   "cell_type": "code",
   "execution_count": 2,
   "metadata": {},
   "outputs": [
    {
     "name": "stdout",
     "output_type": "stream",
     "text": [
      "2\n",
      "2\n",
      "3 4\n",
      "3\n",
      "3\n",
      "4 2 5\n",
      "4\n"
     ]
    }
   ],
   "source": [
    "#taking input for test cases\n",
    "for _ in range(int(input())):\n",
    "    #taking input for number of values\n",
    "    n = int(input())\n",
    "    #taking input for values in list ls\n",
    "    ls = list(map(int, input().split()))\n",
    "    print(min(ls)*(len(ls)-1))"
   ]
  }
 ],
 "metadata": {
  "kernelspec": {
   "display_name": "Python 3",
   "language": "python",
   "name": "python3"
  },
  "language_info": {
   "codemirror_mode": {
    "name": "ipython",
    "version": 3
   },
   "file_extension": ".py",
   "mimetype": "text/x-python",
   "name": "python",
   "nbconvert_exporter": "python",
   "pygments_lexer": "ipython3",
   "version": "3.8.3"
  }
 },
 "nbformat": 4,
 "nbformat_minor": 4
}
