{
 "cells": [
  {
   "cell_type": "markdown",
   "metadata": {},
   "source": [
    "<h1> Question 8 Two Numbers </h1>"
   ]
  },
  {
   "cell_type": "markdown",
   "metadata": {},
   "source": [
    "<p>Alice and Bob are playing a game. Alice initially has the number A and Bob has the number B.\n",
    "There are a total of N turns in the game, and Alice and Bob alternatively take turns. In each turn the\n",
    "player whose turn it is, multiplies his or her number by 2. Alice has the first turn.\n",
    "Suppose after all the N turns, Alice's number has become C and Bob's number has become D. You\n",
    "want to calculate the integer division of the maximum number among Cand D by the minimum\n",
    "number among C and D\n",
    "<p>Input\n",
    "<p>● The first line of the input contains an integer T denoting the number of test cases. The\n",
    "description of each test case follows.\n",
    "<p>● Each test case contains a single line with 3 integers A, B, and N.\n",
    "Output\n",
    "<p>For each test case output a new line with a single integer which should be the answer.\n",
    "<p>Constraints\n",
    "<p>● 1 ≤ T ≤ 100\n",
    "<p>● 1 ≤ A ≤ 1000000000\n",
    "<p>● 1 ≤ B ≤ 1000000000\n",
    "<p>● 1 ≤ N ≤ 1000000000\n",
    "<p>Example\n",
    "<p>Input:\n",
    "<p>3\n",
    "<p>1 2 1\n",
    "<p>3 2 3\n",
    "<p>3 7 2\n",
    "<p>Output:\n",
    "<p>1\n",
    "<p>3\n",
    "<p>2\n",
    "<p>Explanation\n",
    "    In the first testcase, the initial numbers are (A = 1, B = 2). There is only one turn. In this turn Alice\n",
    "multiplies her number by 2. Hence, we get (A = 2, B = 2). Therefore C = 2, and D = 2. max(C,\n",
    "D)/min(C, D) = 2/2 = 1. Hence the first output is 1.\n",
    "In the second testcase, the initial numbers are (A = 3, B = 2). There three turns. In the first turn Alice\n",
    "multiplies her number by 2. Hence, we get (A = 6, B = 2). In the second turn Bob multiplies his\n",
    "number by 2. Hence, we get (A = 6, B = 4). In the third turn Alice multiplies her number by 2. Hence,\n",
    "we get (A = 12, B = 4). Therefore C = 12, and D = 4. max(C, D)/min(C, D) = 12/4 = 3. Hence the\n",
    "second output is 3.\n",
    "In the third testcase, the initial numbers are (A = 3, B = 7). There two turns. In the first turn Alice\n",
    "multiplies her number by 2. Hence, we get (A = 6, B = 7). In the second turn Bob multiplies his\n",
    "number by 2. Hence, we get (A = 6, B = 14). Therefore C = 6, and D = 14. max(C, D)/min(C, D) =\n",
    "14/6 = 2, because we are doing integer division. Hence the third output is 2."
   ]
  },
  {
   "cell_type": "markdown",
   "metadata": {},
   "source": [
    "<h4> Pseudo Code </h4>\n",
    "<p> 1. Taking number of test cases in r using for loop </p>\n",
    "<p> 2. Taking input for three values and storing separately in three variables a,b and n </p>\n",
    "<p> 3. If loop to check whether n %2 ===1 or not </p>\n",
    "<p> 4. applying minimum and maximum function min and max to get the min and max for a and b </p>\n",
    "<p> 5. printing the result using floor division operator to get result down to neares whole number </p>\n"
   ]
  },
  {
   "cell_type": "markdown",
   "metadata": {},
   "source": [
    "<h4> Actual Code </h4>"
   ]
  },
  {
   "cell_type": "code",
   "execution_count": 1,
   "metadata": {},
   "outputs": [
    {
     "name": "stdout",
     "output_type": "stream",
     "text": [
      "3\n",
      "1 2 1\n",
      "1\n",
      "3 2 3\n",
      "3\n",
      "3 7 2\n",
      "2\n"
     ]
    }
   ],
   "source": [
    "#Taking input for number of test cases\n",
    "r=int(input())\n",
    "for i in range(r):\n",
    "    #Initialising three variables and taking input from user\n",
    "    a,b,n=map(int,input().split())\n",
    "    if n%2==1:\n",
    "      a*=2\n",
    "    m1=max(a,b)\n",
    "    m2=min(a,b)\n",
    "    print(m1//m2)\n"
   ]
  }
 ],
 "metadata": {
  "kernelspec": {
   "display_name": "Python 3",
   "language": "python",
   "name": "python3"
  },
  "language_info": {
   "codemirror_mode": {
    "name": "ipython",
    "version": 3
   },
   "file_extension": ".py",
   "mimetype": "text/x-python",
   "name": "python",
   "nbconvert_exporter": "python",
   "pygments_lexer": "ipython3",
   "version": "3.8.3"
  }
 },
 "nbformat": 4,
 "nbformat_minor": 4
}
