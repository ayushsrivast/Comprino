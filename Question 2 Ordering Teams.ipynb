{
 "cells": [
  {
   "cell_type": "markdown",
   "metadata": {},
   "source": [
    "<h1> Sample Question 2: Ordering teams </h1>\n",
    "<p>In ACM-ICPC contests, there are usually three people in a team. For each person in the team,\n",
    "you know their scores in three skills - hard work, intelligence and persistence.\n",
    "You want to check whether it is possible to order these people (assign them numbers from 1 to\n",
    "3) in such a way that for each 1 ≤ i ≤ 2, i+1-th person is strictly better than the i-th person.\n",
    "<p>A person x is said to be better than another person y if x doesn't score less than y in any of the\n",
    "skills and scores more than y in at least one skill.\n",
    "<p>Determine whether such an ordering exists.\n",
    "<p>Input\n",
    "<p>The first line to the input contains an integer T denoting the number of test cases.\n",
    "Each test consists of three lines. Each of these lines contains three space separated integers s1\n",
    ", s2 and s3 denoting the scores of one member of the team in each of the three skills, in the given order.\n",
    "<p>Output\n",
    "<p>For each test case, output a single line containing \"yes\" if such an ordering exists or \"no\" if doesn't\n",
    "exist (without quotes).\n",
    "<p>Constraints\n",
    "<p>● 1 ≤ T ≤ 1000\n",
    "<p>● 1 ≤ s1, s2, s3 ≤ 100\n",
    "<p>Example\n",
    "<p>Input\n",
    "<p>3\n",
    "<p>1 2 3\n",
    "<p>2 3 4\n",
    "<p>2 3 5\n",
    "<p>1 2 3\n",
    "<p>2 3 4\n",
    "<p>2 3 4\n",
    "<p>5 6 5\n",
    "<p>1 2 3\n",
    "<p>2 3 4\n",
    "<p>Output\n",
    "<p>yes\n",
    "<p>no\n",
    "<p>yes\n",
    "<p>Explanation\n",
    "<p>Test Case 1: We can order them as (3, 2, 1). Person 3 is better than Person 2 because his scores in\n",
    "the first two skills are not lesser than Person 2's. And in skill 3, Person 3 scores higher. Similarly,\n",
    "Person 2 is better than Person 1. He scores more than Person 1 in every skill, in fact.\n"
   ]
  },
  {
   "cell_type": "markdown",
   "metadata": {},
   "source": [
    "<h2> SOLUTION </h2>"
   ]
  },
  {
   "cell_type": "markdown",
   "metadata": {},
   "source": [
    "<h4> Pseudo Code </h4>\n",
    "<p> 1. Defining function c by passing arguments a and b.</p>\n",
    "<p> 2. Taking input for number of cases to check </p>\n",
    "<p> 3. Allocating and Splitting the values in different teams </p>\n",
    "<p> 4. Sorting the Inputs </p>\n",
    "<p> 5. Performing the operations and given test cases </p>"
   ]
  },
  {
   "cell_type": "markdown",
   "metadata": {},
   "source": [
    "<h4> Actual Code </h4>"
   ]
  },
  {
   "cell_type": "code",
   "execution_count": 5,
   "metadata": {},
   "outputs": [
    {
     "name": "stdout",
     "output_type": "stream",
     "text": [
      "3\n",
      "1 2 3\n",
      "2 3 4\n",
      "2 3 5\n",
      "yes\n",
      "1 2 3\n",
      "2 3 4\n",
      "2 3 4\n",
      "no\n",
      "5 6 5 \n",
      "1 2 3\n",
      "2 3 4\n",
      "yes\n"
     ]
    }
   ],
   "source": [
    "#Defining function and allocatig the return with the mentioned criteria\n",
    "def c(a,b): return (a[0]<=b[0] and a[1]<=b[1] and a[2]<=b[2]) and (a[0]<b[0] or a[1]<b[1] or a[2]<b[2])\n",
    "#Taking Inputs for cases\n",
    "for _ in range(int(input())):\n",
    "    teama = list(map(int, input().split())) #taking input and mappin in list splitting the values &storing in teama\n",
    "    teamb = list(map(int, input().split())) #taking input and mappin in list splitting the values &storing in teamb\n",
    "    teamc = list(map(int, input().split())) #taking input and mappin in list splitting the values &storing in teamc\n",
    "    #allocating the inputs in variable re\n",
    "    re = [teamc, teamb, teama]\n",
    "    #sorting the re values\n",
    "    re.sort()\n",
    "    ans = False\n",
    "    #If clause to check whether the variable satisfy the given check\n",
    "    if c(re[0], re[1]) and cp(re[1], re[2]):\n",
    "        ans=True\n",
    "    print(\"yes\" if ans else \"no\")"
   ]
  }
 ],
 "metadata": {
  "kernelspec": {
   "display_name": "Python 3",
   "language": "python",
   "name": "python3"
  },
  "language_info": {
   "codemirror_mode": {
    "name": "ipython",
    "version": 3
   },
   "file_extension": ".py",
   "mimetype": "text/x-python",
   "name": "python",
   "nbconvert_exporter": "python",
   "pygments_lexer": "ipython3",
   "version": "3.8.3"
  }
 },
 "nbformat": 4,
 "nbformat_minor": 4
}
