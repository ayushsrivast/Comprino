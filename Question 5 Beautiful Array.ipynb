{
 "cells": [
  {
   "cell_type": "markdown",
   "metadata": {},
   "source": [
    "<h1> Question 5 Beautiful Array </h1>"
   ]
  },
  {
   "cell_type": "markdown",
   "metadata": {},
   "source": [
    "<p>An array a is called beautiful if for every pair of numbers ai\n",
    ", aj\n",
    ", (i ≠ j), there exists an aksuch that ak\n",
    " =\n",
    "ai\n",
    "* aj\n",
    ". Note that k can be equal to i or j too. Find out whether the given array a is beautiful or not!\n",
    "Input\n",
    "First line of the input contains an integer T denoting the number of test cases. T test cases follow.\n",
    "First line of each test case contains an integer n denoting number of elements in a.\n",
    "Next line contains n space separated integers denoting the array a.\n",
    "Output\n",
    "For each test case, output a single line containing \"yes\" or \"no\" (without quotes) corresponding to the\n",
    "answer of the problem.\n",
    "Constraints\n",
    "● 1 ≤ T ≤ 106\n",
    "● 1 ≤ n ≤ 105\n",
    "● Sum of n over all the test cases ≤ 106\n",
    "● -109\n",
    " ≤ ai\n",
    " ≤ 109\n",
    "Example\n",
    "Input\n",
    "3\n",
    "2\n",
    "0 1\n",
    "2\n",
    "1 2\n",
    "2\n",
    "5 6\n",
    "Output:\n",
    "yes\n",
    "yes\n",
    "no\n",
    "Test case 1. If you multiply 0 with 1, you get 0, we see that a0\n",
    " = 0. So, the array is beautiful.\n",
    "    Test case 2. If you multiply 5 with 6, you get 30, there does not exist an k such that ak\n",
    " = 30. So, the\n",
    "array is not beautiful."
   ]
  },
  {
   "cell_type": "markdown",
   "metadata": {},
   "source": [
    "<h4> Pseudo Code </h4>\n",
    "<p> 1. Using try and except to perform the complete operations. </p>\n",
    "<p> 2. Taking n inputs for test cases </p>\n",
    "<p> 3. taking input in l of list and splitting integers using split method. </p>\n",
    "<p> 4. Counting the given inputs on -1, 0 and 1 </p>\n",
    "<p> 5. Finally using if and else to determine and satisfy the criteria </p>\n"
   ]
  },
  {
   "cell_type": "markdown",
   "metadata": {},
   "source": [
    "<h4> Actual Code </h4>"
   ]
  },
  {
   "cell_type": "code",
   "execution_count": 3,
   "metadata": {},
   "outputs": [
    {
     "name": "stdout",
     "output_type": "stream",
     "text": [
      "3\n",
      "2\n",
      "0 1\n",
      "yes\n",
      "2\n",
      "1 2\n",
      "yes\n",
      "2\n",
      "5 6\n",
      "no\n"
     ]
    }
   ],
   "source": [
    "#Initialising try and except\n",
    "try:\n",
    "    #Prompt User Input using for loop for no of test cases\n",
    "    for _ in range(int(input())):\n",
    "        #the input for test case stored in n\n",
    "        n = int(input())\n",
    "        l = list(map(int, input().split()))\n",
    "        #Using count method\n",
    "        cnt = [l.count(-1), l.count(0), l.count(1)]\n",
    "        c = len(l) - sum(cnt) #using len and sum functions\n",
    "        #If and Else clause to check the satisfying criteria\n",
    "        if c > 1:\n",
    "            print(\"no\")\n",
    "        else:\n",
    "\n",
    "            if c and cnt[0]:\n",
    "                print(\"no\")\n",
    "            elif (cnt[0]>1 and cnt[2] == 0) :\n",
    "                print(\"no\")\n",
    "            else:\n",
    "                print(\"yes\")\n",
    "except:\n",
    "    pass"
   ]
  }
 ],
 "metadata": {
  "kernelspec": {
   "display_name": "Python 3",
   "language": "python",
   "name": "python3"
  },
  "language_info": {
   "codemirror_mode": {
    "name": "ipython",
    "version": 3
   },
   "file_extension": ".py",
   "mimetype": "text/x-python",
   "name": "python",
   "nbconvert_exporter": "python",
   "pygments_lexer": "ipython3",
   "version": "3.8.3"
  }
 },
 "nbformat": 4,
 "nbformat_minor": 4
}
