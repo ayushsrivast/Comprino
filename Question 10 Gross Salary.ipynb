{
 "cells": [
  {
   "cell_type": "markdown",
   "metadata": {},
   "source": [
    "<h1> Question 10 Gross Salary </h1>\n"
   ]
  },
  {
   "cell_type": "markdown",
   "metadata": {},
   "source": [
    "<p>In a company an employee is paid as under: If his basic salary is less than Rs. 1500, then HRA =\n",
    "10% of base salary and DA = 90% of basic salary.\n",
    "If his salary is either equal to or above Rs. 1500, then HRA = Rs. 500 and DA = 98% of basic salary.\n",
    "If the Employee's salary is input, write a program to find his gross salary.\n",
    "NOTE: Gross Salary = Basic Salary + HRA + DA\n",
    "Input\n",
    "The first line contains an integer T, total number of test cases. Then follow T lines, each line contains\n",
    "an integer salary.\n",
    "Output\n",
    "Output the gross salary of the employee. Your answer will be considered correct if the absolute error\n",
    "is less than 10-2\n",
    ".\n",
    "Constraints\n",
    "● 1 ≤ T ≤ 1000\n",
    "● 1 ≤ salary ≤ 100000\n",
    "Example\n",
    "<p>Input\n",
    "<p>3\n",
    "<p>1203\n",
    "<p>10042\n",
    "<p>1312\n",
    "<p>Output\n",
    "<p>2406.00\n",
    "<p>20383.16\n",
    "<p>2624\n"
   ]
  },
  {
   "cell_type": "markdown",
   "metadata": {},
   "source": [
    "<h4> Pseudo Code </h4>"
   ]
  },
  {
   "cell_type": "markdown",
   "metadata": {},
   "source": [
    "<h4> Actual Code </h4>\n",
    "<p> 1. taking input for test cases in x using for loop </p>\n",
    "<p> 2. taking input of salary in sal variable </p>\n",
    "<p> 3. applying the criteria if salary is greator than 1500 in print statement with given criteria </p>\n",
    "<p> 4. else statement adds up 500 in salary and 0.98 is multiplied and added to the whole </p>"
   ]
  },
  {
   "cell_type": "code",
   "execution_count": 1,
   "metadata": {},
   "outputs": [
    {
     "name": "stdout",
     "output_type": "stream",
     "text": [
      "3\n",
      "1203\n",
      "2406.0\n",
      "10042\n",
      "20383.16\n",
      "1312\n",
      "2624.0\n"
     ]
    }
   ],
   "source": [
    "#taking input in var x\n",
    "x=int(input())\n",
    "for _ in range(x):\n",
    "    #taking input of salary in sal\n",
    "    sal=int(input())\n",
    "    #applying if and else clause\n",
    "    if sal<1500:\n",
    "        print(sal+(0.1*sal)+(0.9*sal))\n",
    "    else:\n",
    "        print(sal+500+(0.98*sal))"
   ]
  }
 ],
 "metadata": {
  "kernelspec": {
   "display_name": "Python 3",
   "language": "python",
   "name": "python3"
  },
  "language_info": {
   "codemirror_mode": {
    "name": "ipython",
    "version": 3
   },
   "file_extension": ".py",
   "mimetype": "text/x-python",
   "name": "python",
   "nbconvert_exporter": "python",
   "pygments_lexer": "ipython3",
   "version": "3.8.3"
  }
 },
 "nbformat": 4,
 "nbformat_minor": 4
}
