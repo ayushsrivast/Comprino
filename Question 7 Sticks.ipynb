{
 "cells": [
  {
   "cell_type": "markdown",
   "metadata": {},
   "source": [
    "<h1> Question 7 Sticks </h1>"
   ]
  },
  {
   "cell_type": "markdown",
   "metadata": {},
   "source": [
    "<p>Chef and his little brother are playing with sticks. They have total N sticks. Length of i-th stick is\n",
    "Ai. Chef asks his brother to choose any four sticks and to make a rectangle with those sticks its\n",
    "sides. Chef warns his brother to not to break any of the sticks, he has to use sticks as a whole.\n",
    "Also, he wants that the rectangle formed should have the maximum possible area among all the\n",
    "rectangles that Chef's brother can make.\n",
    "Chef's little brother takes this challenge up and overcomes it. Can you also do so? That is, you\n",
    "have to tell whether it is even possible to create a rectangle? If yes, then you have to tell the\n",
    "maximum possible area of rectangle.\n",
    "<p>Input\n",
    "<p>The first line contains a single integer T denoting the number of test-cases. T test cases follow.\n",
    "<p>The first line of each test case contains a single integer N denoting the number of sticks.\n",
    "<p>The second line of each test case contains N space-separated integers A1\n",
    ", A2\n",
    ", ..., ANdenoting the\n",
    "lengths of sticks.\n",
    "<p>Output\n",
    "<p>For each test case, output a single line containing an integer representing the maximum possible\n",
    "area for rectangle or -1 if it's impossible to form any rectangle using the available sticks.\n",
    "<p>Constraints\n",
    "<p>● 1 ≤ T ≤ 100\n",
    "<p>● 1 ≤ N ≤ 103\n",
    "<p>● 1 ≤ sum of N's over all test-cases in a single test file ≤ 103\n",
    "<p>● 1 ≤ Ai ≤ 103\n",
    "<p>Example\n",
    "<p>Input:\n",
    "<p>2\n",
    "<p>5\n",
    "<p>1 2 3 1 2\n",
    "<p>4\n",
    "<p>1 2 2 3\n",
    "<p>Output:\n",
    "<p>2\n",
    "<p>-1\n",
    "<p>Explanation\n",
    "<p>Example case 1. Chef's brother can choose sticks of lengths 1, 2, 1, 2. He can create a rectangle\n",
    "<p>with area 1 * 2 = 2.\n",
    "<p>Example case 2. It's impossible to choose 4 sticks so that they form a rectangle"
   ]
  },
  {
   "cell_type": "markdown",
   "metadata": {},
   "source": [
    "<h4> Pseudo Code </h4>\n",
    "<p> 1. Importing counter from collections</p>\n",
    "<p> 2. Taking im]nput for number of test case using for </p>\n",
    "<p> 3. Taking user input of values in list l declared and splitting the integers </p>\n",
    "<p> 4. m is an empty array declared</p>\n",
    "<p> 5. defining counter operation in b variable </p>\n",
    "<p> 6. for loop to check for each value in l </p>\n",
    "<p> 7. Performing all the operations and then output </p>"
   ]
  },
  {
   "cell_type": "markdown",
   "metadata": {},
   "source": [
    "<h4> Actual Code </h4>"
   ]
  },
  {
   "cell_type": "code",
   "execution_count": 1,
   "metadata": {},
   "outputs": [
    {
     "name": "stdout",
     "output_type": "stream",
     "text": [
      "2\n",
      "5\n",
      "1 2 3 1 2\n",
      "2\n",
      "4\n",
      "1 2 2 3\n",
      "-1\n"
     ]
    }
   ],
   "source": [
    "#Importing counter to hold the count of each element in container\n",
    "from collections import Counter\n",
    "#Taking input for test cases\n",
    "for _ in range(int(input())):\n",
    "    #taking input for number of values to be checked\n",
    "    n=int(input())\n",
    "    #taking input of values in a list l\n",
    "    l=list(map(int,input().split()))\n",
    "    m=[]\n",
    "    #Defining the counter in b \n",
    "    b=Counter()\n",
    "    for i in l:\n",
    "        b[i]+=1\n",
    "        if((b[i]%2)==0): m.append(i)\n",
    "    if len(m)<2: print(-1)\n",
    "    else:\n",
    "        m.sort(reverse=True)\n",
    "        print(m[0]*m[1])"
   ]
  }
 ],
 "metadata": {
  "kernelspec": {
   "display_name": "Python 3",
   "language": "python",
   "name": "python3"
  },
  "language_info": {
   "codemirror_mode": {
    "name": "ipython",
    "version": 3
   },
   "file_extension": ".py",
   "mimetype": "text/x-python",
   "name": "python",
   "nbconvert_exporter": "python",
   "pygments_lexer": "ipython3",
   "version": "3.8.3"
  }
 },
 "nbformat": 4,
 "nbformat_minor": 4
}
