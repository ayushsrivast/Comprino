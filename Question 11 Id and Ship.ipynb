{
 "cells": [
  {
   "cell_type": "markdown",
   "metadata": {},
   "source": [
    "<h1> Question 11: Id and Ship </h1>"
   ]
  },
  {
   "cell_type": "markdown",
   "metadata": {},
   "source": [
    "<p>Write a program that takes in a letter class ID of a ship and display the equivalent string class\n",
    "description of the given ID. Use the table below.\n",
    "<p>Class IDShip Class\n",
    "<p>B or b BattleShip\n",
    "<p>C or c Cruiser\n",
    "<p>D or d Destroyer\n",
    "<p>F or f Frigate\n",
    "<p>Input\n",
    "<p>The first line contains an integer T, total number of test cases. Then follow T lines, each line contains\n",
    "a character.\n",
    "<p>Output\n",
    "<p>Display the Ship Class depending on ID.\n",
    "<p>Constraints\n",
    "<p>● 1 ≤ T ≤ 1000\n",
    "<p>Example\n",
    "<p>Input\n",
    "<p>3\n",
    "<p>B\n",
    "<p>c\n",
    "<p>D\n",
    "<p>Output\n",
    "<p>BattleShip\n",
    "<p>Cruiser\n",
    "<p>Destroyer"
   ]
  },
  {
   "cell_type": "markdown",
   "metadata": {},
   "source": [
    "<h4> Pseudo Code </h4>\n",
    "<p> 1. Importing math for mathematical calculations </p>\n",
    "<p> 2. taking input in s for test cases using for </p>\n",
    "<p> 3. taking input of character and storing in char variable </p>\n",
    "<p> 4. Using if else to match whether the charcter is in small or upper case the output must be given for a known char</p>\n",
    "<p> 5. Performing all the operations given and testing the given cases for output </p>"
   ]
  },
  {
   "cell_type": "markdown",
   "metadata": {},
   "source": [
    "<h4> Actual Code </h4>"
   ]
  },
  {
   "cell_type": "code",
   "execution_count": 2,
   "metadata": {},
   "outputs": [
    {
     "name": "stdout",
     "output_type": "stream",
     "text": [
      "3\n",
      "B\n",
      "BattleShip\n",
      "c\n",
      "Cruiser\n",
      "D\n",
      "Destroyer\n"
     ]
    }
   ],
   "source": [
    "#Importing math\n",
    "import math\n",
    "#taking input for test cases in s using for\n",
    "s = int(input())\n",
    "for i in range(s):\n",
    "    #taking character input in char\n",
    "    char = input()\n",
    "    #Applying if and else to match or equate the output \n",
    "    if char == 'B' or char == 'b':\n",
    "       print('BattleShip')\n",
    "    if char == 'C' or char == 'c':\n",
    "       print('Cruiser')\n",
    "    if char == 'D' or char == 'd':\n",
    "       print('Destroyer')\n",
    "    if char == 'F' or char == 'f':\n",
    "       print('Frigate')\n"
   ]
  }
 ],
 "metadata": {
  "kernelspec": {
   "display_name": "Python 3",
   "language": "python",
   "name": "python3"
  },
  "language_info": {
   "codemirror_mode": {
    "name": "ipython",
    "version": 3
   },
   "file_extension": ".py",
   "mimetype": "text/x-python",
   "name": "python",
   "nbconvert_exporter": "python",
   "pygments_lexer": "ipython3",
   "version": "3.8.3"
  }
 },
 "nbformat": 4,
 "nbformat_minor": 4
}
