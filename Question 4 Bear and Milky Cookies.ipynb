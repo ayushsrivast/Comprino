{
 "cells": [
  {
   "cell_type": "markdown",
   "metadata": {},
   "source": [
    "<h1> Question 4 Bear and Milky Cookies </h1>"
   ]
  },
  {
   "cell_type": "markdown",
   "metadata": {},
   "source": [
    "<p>Limak is a little polar bear, who loves eating cookies and drinking milk. For this reason he often visits\n",
    "Chef's kitchen.\n",
    "Limak is going to spend N minutes in the kitchen. Each minute he either eats a cookie or drinks milk.\n",
    "Cookies are very sweet and thus Limak's parents have instructed him, that after eating a cookie, he\n",
    "has to drink milk in the next minute.\n",
    "You are given whether he ate a cookie or drank milk in each of the N minutes. Your task is to check\n",
    "if Limak followed his parents' instructions. That is, you need to verify whether after each eaten\n",
    "cookie he drinks milk in the next minute. Print \"YES\" or \"NO\" for each test case accordingly.\n",
    "<p>Input\n",
    "<p>The first line of the input contains an integer T denoting the number of test cases. The description of\n",
    "T test cases follows.\n",
    "The first line of each test case contains an integer N denoting the number of minutes.\n",
    "The second line of a test case contains N space-separated strings S1\n",
    ", S2\n",
    ", ..., SN. The string Si\n",
    " is\n",
    "either \"cookie\" (if Limak eats a cookie in the i-th minute) or \"milk\" (otherwise).\n",
    "<p>Output\n",
    "<p>For each test case, output a single line containing the answer — \"YES\" if Limak followed his parents'\n",
    "instructions, and \"NO\" otherwise, both without the quotes.\n",
    "<p>Constraints\n",
    "<p>● 1 ≤ T ≤ 50\n",
    "<p>● 1 ≤ N ≤ 50\n",
    "<p>● Each Si\n",
    " is either \"cookie\" or \"milk\" (without the quotes)\n",
    "<p>Example\n",
    "<p>Input:\n",
    "<p>4\n",
    "<p>7\n",
    "<p>cookie milk milk cookie milk cookie milk\n",
    "<p>5\n",
    "<p>cookie cookie milk milk milk\n",
    "<p>4\n",
    "<p>milk milk milk milk\n",
    "<p>1\n",
    "<p>cookie\n",
    "<p>Output:\n",
    "<p>YES\n",
    "<p>NO\n",
    "<p>YES\n",
    "<p>NO\n",
    "\n",
    "<p>Explanation\n",
    "Test case 1. Limak is in the kitchen for 7 minutes. He eats three cookies and after each of them he\n",
    "indeed drinks milk in the next minute. The answer is \"YES\".\n",
    "Test case 2. Limak is in the kitchen for 5 minutes. In the first minute he eats a cookie and in the\n",
    "second minute he eats a cookie again, instead of drinking milk. The answer is \"NO\".\n",
    "Test case 3. Here Limak doesn't eat any cookies. The answer is \"YES\" because the condition is\n",
    "satisfied (there is no situation when Limak eats a cookie but doesn't drink milk in the next minute).\n",
    "Test case 4. Limak eats a cookie and doesn't drink milk in the next minute so the answer is \"NO\n"
   ]
  },
  {
   "cell_type": "markdown",
   "metadata": {},
   "source": [
    "<h4> Pseudo Code </h4>"
   ]
  },
  {
   "cell_type": "markdown",
   "metadata": {},
   "source": [
    "<h4> Actual Code </h4>"
   ]
  },
  {
   "cell_type": "code",
   "execution_count": 4,
   "metadata": {},
   "outputs": [
    {
     "name": "stdout",
     "output_type": "stream",
     "text": [
      "4\n",
      "7\n",
      "cookie milk milk cookie milk cookie milk\n",
      "YES\n",
      "5\n",
      "cookie cookie milk milk milk\n",
      "NO\n",
      "4\n",
      "milk milk milk milk\n",
      "YES\n",
      "1\n",
      "cookie\n",
      "NO\n"
     ]
    }
   ],
   "source": [
    "#Taking input for test cases\n",
    "t=int(input())\n",
    "#Applying for loop for multiple inputs\n",
    "for _ in range(t):\n",
    "    #Storing the input in variable n\n",
    "    n=int(input())\n",
    "    #Creating a list l and taking values as user input\n",
    "    l=list(map(str,input().split()))\n",
    "    #Initiallising i and check to 0\n",
    "    i,check=0,0\n",
    "    #Using if and else to check whether the user input satisfy the criteria or not\n",
    "    if l[n-1]==\"cookie\":\n",
    "        check=1\n",
    "    else:\n",
    "        while i<n-1:\n",
    "            if l[i]==\"cookie\":\n",
    "                if l[i+1]!=\"milk\":\n",
    "                    check=1\n",
    "                    break\n",
    "                i+=2\n",
    "            else:\n",
    "                i+=1\n",
    "    if check==1:\n",
    "        print(\"NO\")\n",
    "    else:\n",
    "        print(\"YES\")\n",
    "            \n",
    "            \n",
    "            "
   ]
  }
 ],
 "metadata": {
  "kernelspec": {
   "display_name": "Python 3",
   "language": "python",
   "name": "python3"
  },
  "language_info": {
   "codemirror_mode": {
    "name": "ipython",
    "version": 3
   },
   "file_extension": ".py",
   "mimetype": "text/x-python",
   "name": "python",
   "nbconvert_exporter": "python",
   "pygments_lexer": "ipython3",
   "version": "3.8.3"
  }
 },
 "nbformat": 4,
 "nbformat_minor": 4
}
