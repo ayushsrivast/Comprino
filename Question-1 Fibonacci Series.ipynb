{
 "cells": [
  {
   "cell_type": "markdown",
   "metadata": {},
   "source": [
    "<h1> Sample Question 1: Fibonacci Series</h1>\n",
    "<p>For a string S let the unique set of characters that occur in it one or more times be C. Consider a\n",
    "permutation of the elements of C as (c1,c2,c3...) Let f(c) be the number of times c occurs in S.\n",
    "If any such permutation of the elements of C satisfies f(ci)=f(ci−1)+f(ci−2) for all i≥3, the string is\n",
    "said to be a dynamic string.</p>\n",
    "<p>Mr Bancroft is given the task to check if the string is dynamic, but he is busy playing with\n",
    "sandpaper. Would you help him in such a state?\n",
    "Note that if the number of distinct characters in the string is less than 3, i.e. if |C|<3, then the\n",
    "string is always dynamic.</p>\n",
    "<p>Input:\n",
    "<p>● First line will contain T, number of testcases. Then the testcases follow.\n",
    "<p>● Each testcase contains of a single line of input, a string S.\n",
    "<p>Output:\n",
    "<p>For each testcase, output in a single line \"Dynamic\" if the given string is dynamic, otherwise\n",
    "print \"Not\". (Note that the judge is case sensitive)\n",
    "<p>Constraints\n",
    "<p>● 1≤T≤10\n",
    "<p>● 1≤|S|≤10^5\n",
    "<p>● S contains only lower case alphabets: a, b, …, z\n",
    "<p>Sample Input:\n",
    "<p>3\n",
    "<p>aaaabccc\n",
    "<p>aabbcc\n",
    "<p>ppppmmnnoooopp\n",
    "<p>Sample Output:\n",
    "<p>Dynamic\n",
    "<p>Not\n",
    "<p>Dynamic\n",
    "<p>Explanation:\n",
    "<p>● Testase 1: For the given string, C={a,b,c} and f(a)=4,f(b)=1,f(c)=3. f(a)=f(c)+f(b) so the\n",
    "<p>permutation (b,c,a) satisfies the requirement.\n",
    "<p>● Testcase 2: Here too C={a,b,c} but no permutation satisfies the requirement of a\n",
    "dynamic string.\n",
    "<p>● Testcase 3: Here C={m,n,o,p} and (m,n,o,p) is a permutation that makes it a dynamic\n",
    "string."
   ]
  },
  {
   "cell_type": "markdown",
   "metadata": {},
   "source": [
    "<h2> SOLUTION </h2>"
   ]
  },
  {
   "cell_type": "markdown",
   "metadata": {},
   "source": [
    "<h4> Pseudo Code </h4>\n",
    "\n",
    "<p> 1. Take Number of tests as input -T </p>\n",
    "<p> 2. Storing the Input in variable S </p>\n",
    "<p> 3. For a loop of i in C </p>\n",
    "<p> 4. Validating the length using if and else </p>\n",
    "<p> 5. Performing Sort and applying the criteria to satisfy whether it is dynamic or not</p>\n"
   ]
  },
  {
   "cell_type": "markdown",
   "metadata": {},
   "source": [
    "<h4> Actual Code </h4>"
   ]
  },
  {
   "cell_type": "code",
   "execution_count": 1,
   "metadata": {},
   "outputs": [
    {
     "name": "stdout",
     "output_type": "stream",
     "text": [
      "3\n",
      "aaaabccc\n",
      "Dynamic\n",
      "aabbcc\n",
      "Not\n",
      "ppppmmnnoooopp\n",
      "Dynamic\n"
     ]
    }
   ],
   "source": [
    "#for loop for taking input of number of test cases\n",
    "for T in range(int(input())):\n",
    "    #taking the number of inputs and storing in S\n",
    "    S = input()\n",
    "    #Initialize C with set(S)\n",
    "    C = set(S)\n",
    "    l=[]\n",
    "    #Iterating values in c\n",
    "    for i in C:\n",
    "         l.append(S.count(i))\n",
    "    #Checking that the length of l is less than 3 or not using if and else loop\n",
    "    if(len(l)<3):\n",
    "        print('Dynamic')\n",
    "    else:\n",
    "        l.sort()\n",
    "        #Applying the criteria mentioned f(ci)=f(ci−1)+f(ci−2)\n",
    "        if(l[-1]==l[-2]+l[-3]):\n",
    "            print(\"Dynamic\")\n",
    "        else:\n",
    "            print(\"Not\")"
   ]
  },
  {
   "cell_type": "code",
   "execution_count": null,
   "metadata": {},
   "outputs": [],
   "source": []
  }
 ],
 "metadata": {
  "kernelspec": {
   "display_name": "Python 3",
   "language": "python",
   "name": "python3"
  },
  "language_info": {
   "codemirror_mode": {
    "name": "ipython",
    "version": 3
   },
   "file_extension": ".py",
   "mimetype": "text/x-python",
   "name": "python",
   "nbconvert_exporter": "python",
   "pygments_lexer": "ipython3",
   "version": "3.8.3"
  }
 },
 "nbformat": 4,
 "nbformat_minor": 4
}
